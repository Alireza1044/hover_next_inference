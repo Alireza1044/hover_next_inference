{
 "cells": [
  {
   "cell_type": "code",
   "execution_count": null,
   "metadata": {},
   "outputs": [],
   "source": [
    "import zarr\n",
    "import numpy as np\n",
    "import json\n",
    "from main import main\n",
    "\n",
    "'''\n",
    "Run inference on a small sample image from TCGA\n",
    "'''\n",
    "params = {\n",
    "\n",
    "}\n",
    "\n",
    "main(params)"
   ]
  },
  {
   "cell_type": "code",
   "execution_count": null,
   "metadata": {},
   "outputs": [],
   "source": [
    "'''\n",
    "Instance map: 2D full-size matrix where each pixels value corresponds to the associated instance (value>0) or background (value=0)\n",
    "'''\n",
    "\n",
    "# open: file-like interaction with zarr-array\n",
    "instance_map = zarr.open(\"pinst_pp.zip\", mode=\"r\")\n",
    "# selecting a ROI will yield a numpy array\n",
    "roi = instance_map[10000:20000,10000:20000]\n",
    "# or with [:] to load the entire array\n",
    "full_instance_map = instance_map[:]\n",
    "# alternatively, use load, which will directly create a numpy array:\n",
    "full_instance_map = zarr.load(\"pinst_pp.zip\") \n",
    "\n",
    "'''\n",
    "Class dictionary: Lookup for the instance map, also contains centroid coordinates. If only centroid coordinates are of interest, you can skip loading the instance map.\n",
    "'''\n",
    "\n",
    "# load the dictionary\n",
    "with open(\"class_inst.json\",\"r\") as f:\n",
    "    class_info = json.load(f)\n",
    "# create a centroid info array\n",
    "centroid_array = np.array([[int(k),v[0],*v[1]] for k,v in class_info.items()])\n",
    "# [instance_id, class_id, y, x]\n",
    "\n",
    "# or alternatively create a lookup for the instance map to get a corresponding class map\n",
    "pcls_list = np.array([0] + [v[0] for v in class_info.values()])\n",
    "pcls_keys = np.array([\"0\"] + list(class_info.keys())).astype(int)\n",
    "lookup = np.zeros(pcls_keys.max() + 1,dtype=np.uint8)\n",
    "lookup[pcls_keys] = pcls_list\n",
    "cls_map = lookup[full_instance_map]"
   ]
  },
  {
   "cell_type": "code",
   "execution_count": null,
   "metadata": {},
   "outputs": [],
   "source": []
  }
 ],
 "metadata": {
  "language_info": {
   "name": "python"
  }
 },
 "nbformat": 4,
 "nbformat_minor": 2
}
